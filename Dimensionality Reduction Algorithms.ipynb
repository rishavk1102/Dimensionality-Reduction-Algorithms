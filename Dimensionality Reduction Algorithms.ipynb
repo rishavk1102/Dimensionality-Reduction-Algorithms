{
 "cells": [
  {
   "cell_type": "markdown",
   "metadata": {},
   "source": [
    "<h1>Dimensionality Reduction Algorithms</h1>"
   ]
  },
  {
   "cell_type": "markdown",
   "metadata": {},
   "source": [
    "<h3>Research and Hands On for Seminar - Presented by Rishav 201840501</h3>"
   ]
  },
  {
   "cell_type": "markdown",
   "metadata": {},
   "source": [
    "<h2>Backward Elimination Algorithm</h2>"
   ]
  },
  {
   "cell_type": "code",
   "execution_count": 3,
   "metadata": {},
   "outputs": [],
   "source": [
    "import pandas as pd\n",
    "from sklearn.datasets import load_iris\n",
    "from sklearn.feature_selection import RFE\n",
    "from sklearn.linear_model import LogisticRegression\n",
    "from yellowbrick.model_selection import feature_importances"
   ]
  },
  {
   "cell_type": "code",
   "execution_count": 11,
   "metadata": {},
   "outputs": [],
   "source": [
    "# Loading IRIS Dataset\n",
    "iris = load_iris()\n",
    "X = iris.data\n",
    "y = iris.target"
   ]
  },
  {
   "cell_type": "code",
   "execution_count": 12,
   "metadata": {},
   "outputs": [],
   "source": [
    "# geberating estimator using logistic regression for RFE\n",
    "estimator = LogisticRegression(max_iter=150)\n",
    "\n",
    "#performing RFE\n",
    "selector = RFE(estimator, n_features_to_select=3, step=1)\n",
    "selector.fit(X, y)\n",
    "X_selected = selector.transform(X)"
   ]
  },
  {
   "cell_type": "code",
   "execution_count": 13,
   "metadata": {},
   "outputs": [
    {
     "name": "stdout",
     "output_type": "stream",
     "text": [
      "Data with initial features\n",
      "   sepal length (cm)  sepal width (cm)  petal length (cm)  petal width (cm)\n",
      "0                5.1               3.5                1.4               0.2\n",
      "1                4.9               3.0                1.4               0.2\n",
      "2                4.7               3.2                1.3               0.2\n",
      "3                4.6               3.1                1.5               0.2\n",
      "4                5.0               3.6                1.4               0.2\n",
      "\n",
      "Data with selected features\n",
      "     0    1    2\n",
      "0  3.5  1.4  0.2\n",
      "1  3.0  1.4  0.2\n",
      "2  3.2  1.3  0.2\n",
      "3  3.1  1.5  0.2\n",
      "4  3.6  1.4  0.2\n",
      "\n"
     ]
    },
    {
     "data": {
      "image/png": "[encoded data removed]",
      "text/plain": [
       "<Figure size 576x396 with 1 Axes>"
      ]
     },
     "metadata": {},
     "output_type": "display_data"
    },
    {
     "name": "stdout",
     "output_type": "stream",
     "text": [
      "FeatureImportances(absolute=False,\n",
      "                   ax=<matplotlib.axes._subplots.AxesSubplot object at 0x7fd39516acd0>,\n",
      "                   colormap=None, colors=None,\n",
      "                   estimator=LogisticRegression(C=1.0, class_weight=None,\n",
      "                                                dual=False, fit_intercept=True,\n",
      "                                                intercept_scaling=1,\n",
      "                                                l1_ratio=None, max_iter=150,\n",
      "                                                multi_class='auto', n_jobs=None,\n",
      "                                                penalty='l2', random_state=None,\n",
      "                                                solver='lbfgs', tol=0.0001,\n",
      "                                                verbose=0, warm_start=False),\n",
      "                   is_fitted='auto',\n",
      "                   labels=['sepal length (cm)', 'sepal width (cm)',\n",
      "                           'petal length (cm)', 'petal width (cm)'],\n",
      "                   relative=False, stack=True, topn=None, xlabel=None)\n"
     ]
    }
   ],
   "source": [
    "print('Data with initial features')\n",
    "print(pd.DataFrame(X, columns=iris.feature_names).head())\n",
    "print()\n",
    "print('Data with selected features')\n",
    "print(pd.DataFrame(X_selected).head())\n",
    "print()\n",
    "print(feature_importances(estimator, X, y, stack=True,labels=iris.feature_names, relative=False))"
   ]
  },
  {
   "cell_type": "markdown",
   "metadata": {},
   "source": [
    "**Observation**\n",
    "\n",
    "From the output, we can see that the recursive feature elimination (RFE) algorithm has eliminated the sepal length from the logistic regression model. sepal length is the least important feature. The remaining features contain the original values as in the initial dataset. \n",
    "\n",
    "As the plot shows, it is better to keep the other 3 features in the model."
   ]
  },
  {
   "cell_type": "markdown",
   "metadata": {},
   "source": [
    "<h2>Forward Selection Algorithm</h2>"
   ]
  },
  {
   "cell_type": "code",
   "execution_count": 14,
   "metadata": {},
   "outputs": [],
   "source": [
    "from sklearn.feature_selection import f_classif\n",
    "from sklearn.feature_selection import SelectKBest"
   ]
  },
  {
   "cell_type": "code",
   "execution_count": 15,
   "metadata": {},
   "outputs": [],
   "source": [
    "# Loading IRIS Dataset\n",
    "iris = load_iris()\n",
    "X = iris.data\n",
    "y = iris.target"
   ]
  },
  {
   "cell_type": "code",
   "execution_count": 16,
   "metadata": {},
   "outputs": [
    {
     "name": "stdout",
     "output_type": "stream",
     "text": [
      "F-values:  [ 119.26450218   49.16004009 1180.16118225  960.0071468 ]\n",
      "\n",
      "Data with initial features\n",
      "   sepal length (cm)  sepal width (cm)  petal length (cm)  petal width (cm)\n",
      "0                5.1               3.5                1.4               0.2\n",
      "1                4.9               3.0                1.4               0.2\n",
      "2                4.7               3.2                1.3               0.2\n",
      "3                4.6               3.1                1.5               0.2\n",
      "4                5.0               3.6                1.4               0.2\n",
      "\n",
      "Data with selected features\n",
      "     0    1    2\n",
      "0  5.1  1.4  0.2\n",
      "1  4.9  1.4  0.2\n",
      "2  4.7  1.3  0.2\n",
      "3  4.6  1.5  0.2\n",
      "4  5.0  1.4  0.2\n"
     ]
    }
   ],
   "source": [
    "#Selecting feature based on f_classif score\n",
    "X_selected = SelectKBest(f_classif, k=3).fit_transform(X, y)\n",
    "\n",
    "# Let's see F-vlues for each feature\n",
    "print('F-values: ', f_classif(X,y)[0])\n",
    "print()\n",
    "print('Data with initial features')\n",
    "print(pd.DataFrame(X, columns=iris.feature_names).head())\n",
    "print()\n",
    "print('Data with selected features')\n",
    "print(pd.DataFrame(X_selected).head())"
   ]
  },
  {
   "cell_type": "markdown",
   "metadata": {},
   "source": [
    "**Observation**\n",
    "\n",
    "From the output, we can see that the forward feature selection process has selected the sepal length, petal length and petal width which have higher F-values."
   ]
  },
  {
   "cell_type": "markdown",
   "metadata": {},
   "source": [
    "<h2>Random Forests Algorithm</h2>"
   ]
  },
  {
   "cell_type": "code",
   "execution_count": 1,
   "metadata": {},
   "outputs": [],
   "source": [
    "import seaborn as sns\n",
    "import matplotlib.pyplot as plt\n",
    "from sklearn.ensemble import RandomForestClassifier"
   ]
  },
  {
   "cell_type": "code",
   "execution_count": 4,
   "metadata": {},
   "outputs": [],
   "source": [
    "# Loading IRIS Dataset\n",
    "iris = load_iris()\n",
    "X = iris.data\n",
    "y = iris.target"
   ]
  },
  {
   "cell_type": "code",
   "execution_count": 5,
   "metadata": {},
   "outputs": [
    {
     "name": "stdout",
     "output_type": "stream",
     "text": [
      "Feature importances:  [0.08540008 0.01123495 0.45846811 0.44489686]\n",
      "AxesSubplot(0.125,0.125;0.775x0.755)\n"
     ]
    },
    {
     "data": {
      "text/plain": [
       "Text(0.5, 1.0, 'Visualizing Important Features')"
      ]
     },
     "execution_count": 5,
     "metadata": {},
     "output_type": "execute_result"
    },
    {
     "data": {
      "image/png": "[encoded data removed]",
      "text/plain": [
       "<Figure size 576x396 with 1 Axes>"
      ]
     },
     "metadata": {},
     "output_type": "display_data"
    }
   ],
   "source": [
    "#Random forest classification\n",
    "rf = RandomForestClassifier(n_estimators=100, max_depth=3, bootstrap=True, n_jobs=-1, random_state=0)\n",
    "rf.fit(X, y)\n",
    "\n",
    "feature_imp = pd.Series(rf.feature_importances_, index=iris.feature_names).sort_values(ascending=False)\n",
    "\n",
    "print('Feature importances: ', rf.feature_importances_)\n",
    "print(sns.barplot(x=feature_imp, y=feature_imp.index))\n",
    "plt.xlabel('Feature Importance Score', fontsize=12)\n",
    "plt.ylabel('Features', fontsize=12)\n",
    "plt.title(\"Visualizing Important Features\", fontsize=15, pad=15)"
   ]
  },
  {
   "cell_type": "markdown",
   "metadata": {},
   "source": [
    "**Observation**\n",
    "\n",
    "By looking at the feature importance, we can decide to drop the sepal width (cm) feature because it does not contribute enough for making the model"
   ]
  },
  {
   "cell_type": "markdown",
   "metadata": {},
   "source": [
    "**Testing our observation on Random Forest Classifier by using Sckit-Learn SelectFromModel**"
   ]
  },
  {
   "cell_type": "code",
   "execution_count": 7,
   "metadata": {},
   "outputs": [
    {
     "name": "stdout",
     "output_type": "stream",
     "text": [
      "Data with initial features\n",
      "   sepal length (cm)  sepal width (cm)  petal length (cm)  petal width (cm)\n",
      "0                5.1               3.5                1.4               0.2\n",
      "1                4.9               3.0                1.4               0.2\n",
      "2                4.7               3.2                1.3               0.2\n",
      "3                4.6               3.1                1.5               0.2\n",
      "4                5.0               3.6                1.4               0.2\n",
      "\n",
      "Data with selected features\n",
      "     0    1    2\n",
      "0  5.1  1.4  0.2\n",
      "1  4.9  1.4  0.2\n",
      "2  4.7  1.3  0.2\n",
      "3  4.6  1.5  0.2\n",
      "4  5.0  1.4  0.2\n"
     ]
    }
   ],
   "source": [
    "from sklearn.feature_selection import SelectFromModel\n",
    "\n",
    "# SelectFromModel accepts a threshold parameter and will select\n",
    "# the features whose importance (defined by the coefficients) are above this threshold.\n",
    "selector = SelectFromModel(rf, threshold=0.05)\n",
    "features_important = selector.fit_transform(X, y)\n",
    "\n",
    "print('Data with initial features')\n",
    "print(pd.DataFrame(X, columns=iris.feature_names).head())\n",
    "print()\n",
    "print('Data with selected features')\n",
    "print(pd.DataFrame(features_important).head())"
   ]
  },
  {
   "cell_type": "markdown",
   "metadata": {},
   "source": [
    "The values returned by **SelectFromModel** can be used as the new input X for the Random Forest Classifier which is now trained only on the selected features"
   ]
  },
  {
   "cell_type": "code",
   "execution_count": 9,
   "metadata": {},
   "outputs": [
    {
     "name": "stdout",
     "output_type": "stream",
     "text": [
      "Feature importances:  [0.18127352 0.45474764 0.36397884]\n",
      "AxesSubplot(0.125,0.125;0.775x0.755)\n"
     ]
    },
    {
     "data": {
      "text/plain": [
       "Text(0.5, 1.0, 'Visualizing Important Features')"
      ]
     },
     "execution_count": 9,
     "metadata": {},
     "output_type": "execute_result"
    },
    {
     "data": {
      "image/png": "[encoded data removed]",
      "text/plain": [
       "<Figure size 576x396 with 1 Axes>"
      ]
     },
     "metadata": {},
     "output_type": "display_data"
    }
   ],
   "source": [
    "rf = RandomForestClassifier(n_estimators=100, max_depth=3,\n",
    "                           bootstrap=True, n_jobs=-1, random_state=0)\n",
    "\n",
    "rf.fit(features_important, y)\n",
    "\n",
    "#feature_imp = pd.Series(rf.feature_importances_, index=iris.feature_names).sort_values(ascending=False)\n",
    "\n",
    "print('Feature importances: ', rf.feature_importances_)\n",
    "print(sns.barplot(x=feature_imp, y=feature_imp.index))\n",
    "plt.xlabel('Feature Importance Score', fontsize=12)\n",
    "plt.ylabel('Features', fontsize=12)\n",
    "plt.title(\"Visualizing Important Features\", fontsize=15, pad=15)"
   ]
  },
  {
   "cell_type": "markdown",
   "metadata": {},
   "source": [
    "**Observation**\n",
    "\n",
    "We can see that both the graphs are same hence concluding we can drop sepal length"
   ]
  },
  {
   "cell_type": "markdown",
   "metadata": {},
   "source": [
    "<h2>PCA for Data Visualization</h2>"
   ]
  },
  {
   "cell_type": "code",
   "execution_count": 11,
   "metadata": {},
   "outputs": [
    {
     "name": "stdout",
     "output_type": "stream",
     "text": [
      "     sepal length  sepal width  petal length  petal width          target\n",
      "0             5.1          3.5           1.4          0.2     Iris-setosa\n",
      "1             4.9          3.0           1.4          0.2     Iris-setosa\n",
      "2             4.7          3.2           1.3          0.2     Iris-setosa\n",
      "3             4.6          3.1           1.5          0.2     Iris-setosa\n",
      "4             5.0          3.6           1.4          0.2     Iris-setosa\n",
      "..            ...          ...           ...          ...             ...\n",
      "145           6.7          3.0           5.2          2.3  Iris-virginica\n",
      "146           6.3          2.5           5.0          1.9  Iris-virginica\n",
      "147           6.5          3.0           5.2          2.0  Iris-virginica\n",
      "148           6.2          3.4           5.4          2.3  Iris-virginica\n",
      "149           5.9          3.0           5.1          1.8  Iris-virginica\n",
      "\n",
      "[150 rows x 5 columns]\n"
     ]
    }
   ],
   "source": [
    "# Another method to load iris dataset to pandas\n",
    "url = \"https://archive.ics.uci.edu/ml/machine-learning-databases/iris/iris.data\"\n",
    "# load dataset into Pandas DataFrame\n",
    "df = pd.read_csv(url, names=['sepal length','sepal width','petal length','petal width','target'])\n",
    "\n",
    "print(df)"
   ]
  },
  {
   "cell_type": "code",
   "execution_count": 21,
   "metadata": {},
   "outputs": [
    {
     "name": "stdout",
     "output_type": "stream",
     "text": [
      "╒════════════════╤═══════════════╤════════════════╤═══════════════╕\n",
      "│   sepal length │   sepal width │   petal length │   petal width │\n",
      "╞════════════════╪═══════════════╪════════════════╪═══════════════╡\n",
      "│      -0.900681 │      1.03206  │       -1.34127 │      -1.31298 │\n",
      "├────────────────┼───────────────┼────────────────┼───────────────┤\n",
      "│      -1.14302  │     -0.124958 │       -1.34127 │      -1.31298 │\n",
      "├────────────────┼───────────────┼────────────────┼───────────────┤\n",
      "│      -1.38535  │      0.337848 │       -1.39814 │      -1.31298 │\n",
      "├────────────────┼───────────────┼────────────────┼───────────────┤\n",
      "│      -1.50652  │      0.106445 │       -1.28441 │      -1.31298 │\n",
      "├────────────────┼───────────────┼────────────────┼───────────────┤\n",
      "│      -1.02185  │      1.26346  │       -1.34127 │      -1.31298 │\n",
      "╘════════════════╧═══════════════╧════════════════╧═══════════════╛\n"
     ]
    }
   ],
   "source": [
    "# Standardizing the data, i.e, N(0, 1)\n",
    "from sklearn.preprocessing import StandardScaler\n",
    "from tabulate import tabulate\n",
    "\n",
    "features = ['sepal length', 'sepal width', 'petal length', 'petal width']\n",
    "\n",
    "# Separating out the features\n",
    "x = df.loc[:, features].values\n",
    "\n",
    "# Separating out the target\n",
    "y = df.loc[:,['target']].values\n",
    "\n",
    "# Standardizing the features\n",
    "x = StandardScaler().fit_transform(x)\n",
    "\n",
    "print(tabulate(x[:5], features, tablefmt=\"fancy_grid\"))"
   ]
  },
  {
   "cell_type": "code",
   "execution_count": 26,
   "metadata": {},
   "outputs": [
    {
     "name": "stdout",
     "output_type": "stream",
     "text": [
      "╒═════════════════════════╤═════════════════════════╕\n",
      "│   principal component 1 │   principal component 2 │\n",
      "╞═════════════════════════╪═════════════════════════╡\n",
      "│                -2.26454 │                0.505704 │\n",
      "├─────────────────────────┼─────────────────────────┤\n",
      "│                -2.08643 │               -0.655405 │\n",
      "├─────────────────────────┼─────────────────────────┤\n",
      "│                -2.36795 │               -0.318477 │\n",
      "├─────────────────────────┼─────────────────────────┤\n",
      "│                -2.3042  │               -0.575368 │\n",
      "├─────────────────────────┼─────────────────────────┤\n",
      "│                -2.38878 │                0.674767 │\n",
      "╘═════════════════════════╧═════════════════════════╛\n"
     ]
    }
   ],
   "source": [
    "# Projection to 2D\n",
    "from sklearn.decomposition import PCA\n",
    "\n",
    "# n_components = 2, i.e, two main dimensions of the variation\n",
    "pca = PCA(n_components=2)\n",
    "principalComponents = pca.fit_transform(x)\n",
    "\n",
    "principalDf = pd.DataFrame(data = principalComponents, columns = ['principal component 1', 'principal component 2'])\n",
    "\n",
    "principalDf_numpy = principalDf.to_numpy()\n",
    "print(tabulate(principalDf_numpy[:5], ['principal component 1', 'principal component 2'], tablefmt=\"fancy_grid\"))"
   ]
  },
  {
   "cell_type": "code",
   "execution_count": 32,
   "metadata": {},
   "outputs": [
    {
     "name": "stdout",
     "output_type": "stream",
     "text": [
      "╒═════════════════════════╤═════════════════════════╤═════════════╕\n",
      "│   principal component 1 │   principal component 2 │ target      │\n",
      "╞═════════════════════════╪═════════════════════════╪═════════════╡\n",
      "│                -2.26454 │               0.505704  │ Iris-setosa │\n",
      "├─────────────────────────┼─────────────────────────┼─────────────┤\n",
      "│                -2.08643 │              -0.655405  │ Iris-setosa │\n",
      "├─────────────────────────┼─────────────────────────┼─────────────┤\n",
      "│                -2.36795 │              -0.318477  │ Iris-setosa │\n",
      "├─────────────────────────┼─────────────────────────┼─────────────┤\n",
      "│                -2.3042  │              -0.575368  │ Iris-setosa │\n",
      "├─────────────────────────┼─────────────────────────┼─────────────┤\n",
      "│                -2.38878 │               0.674767  │ Iris-setosa │\n",
      "├─────────────────────────┼─────────────────────────┼─────────────┤\n",
      "│                -2.07054 │               1.51855   │ Iris-setosa │\n",
      "├─────────────────────────┼─────────────────────────┼─────────────┤\n",
      "│                -2.44571 │               0.0745627 │ Iris-setosa │\n",
      "├─────────────────────────┼─────────────────────────┼─────────────┤\n",
      "│                -2.23384 │               0.247614  │ Iris-setosa │\n",
      "├─────────────────────────┼─────────────────────────┼─────────────┤\n",
      "│                -2.34196 │              -1.09515   │ Iris-setosa │\n",
      "├─────────────────────────┼─────────────────────────┼─────────────┤\n",
      "│                -2.18868 │              -0.448629  │ Iris-setosa │\n",
      "╘═════════════════════════╧═════════════════════════╧═════════════╛\n",
      "\n",
      "╒═════════════════════════╤═════════════════════════╤════════════════╕\n",
      "│   principal component 1 │   principal component 2 │ target         │\n",
      "╞═════════════════════════╪═════════════════════════╪════════════════╡\n",
      "│                2.01616  │               0.610397  │ Iris-virginica │\n",
      "├─────────────────────────┼─────────────────────────┼────────────────┤\n",
      "│                1.90312  │               0.686025  │ Iris-virginica │\n",
      "├─────────────────────────┼─────────────────────────┼────────────────┤\n",
      "│                1.15319  │              -0.701326  │ Iris-virginica │\n",
      "├─────────────────────────┼─────────────────────────┼────────────────┤\n",
      "│                2.04331  │               0.864685  │ Iris-virginica │\n",
      "├─────────────────────────┼─────────────────────────┼────────────────┤\n",
      "│                2.00169  │               1.04855   │ Iris-virginica │\n",
      "├─────────────────────────┼─────────────────────────┼────────────────┤\n",
      "│                1.87052  │               0.382822  │ Iris-virginica │\n",
      "├─────────────────────────┼─────────────────────────┼────────────────┤\n",
      "│                1.55849  │              -0.905314  │ Iris-virginica │\n",
      "├─────────────────────────┼─────────────────────────┼────────────────┤\n",
      "│                1.52085  │               0.266795  │ Iris-virginica │\n",
      "├─────────────────────────┼─────────────────────────┼────────────────┤\n",
      "│                1.37639  │               1.01636   │ Iris-virginica │\n",
      "├─────────────────────────┼─────────────────────────┼────────────────┤\n",
      "│                0.959299 │              -0.0222839 │ Iris-virginica │\n",
      "╘═════════════════════════╧═════════════════════════╧════════════════╛\n"
     ]
    }
   ],
   "source": [
    "# adding target to dataframe\n",
    "finalDf = pd.concat([principalDf, df[['target']]], axis = 1)\n",
    "\n",
    "finalDf_numpy = finalDf.to_numpy()\n",
    "print(tabulate(finalDf_numpy[:10], \n",
    "               ['principal component 1', 'principal component 2', 'target'], \n",
    "               tablefmt=\"fancy_grid\"))\n",
    "print()\n",
    "print(tabulate(finalDf_numpy[140:], \n",
    "               ['principal component 1', 'principal component 2', 'target'], \n",
    "               tablefmt=\"fancy_grid\"))"
   ]
  },
  {
   "cell_type": "code",
   "execution_count": 40,
   "metadata": {},
   "outputs": [
    {
     "data": {
      "image/png": "[encoded data removed]",
      "text/plain": [
       "<Figure size 576x576 with 1 Axes>"
      ]
     },
     "metadata": {},
     "output_type": "display_data"
    }
   ],
   "source": [
    "# Visualizing 2D projection\n",
    "fig = plt.figure(figsize = (8,8))\n",
    "\n",
    "ax = fig.add_subplot(1,1,1)\n",
    "ax.set_xlabel('Principal Component 1', fontsize = 15)\n",
    "ax.set_ylabel('Principal Component 2', fontsize = 15)\n",
    "ax.set_title('2 component PCA', fontsize = 20)\n",
    "\n",
    "targets = ['Iris-setosa', 'Iris-versicolor', 'Iris-virginica']\n",
    "colors = ['r', 'g', 'b']\n",
    "\n",
    "for target, color in zip(targets,colors):\n",
    "   indicesToKeep = finalDf['target'] == target\n",
    "   ax.scatter(finalDf.loc[indicesToKeep, 'principal component 1']\n",
    "              , finalDf.loc[indicesToKeep, 'principal component 2']\n",
    "              , c = color\n",
    "              , s = 50)\n",
    "    \n",
    "ax.legend(targets)\n",
    "ax.grid()\n",
    "\n",
    "plt.grid()\n",
    "plt.show()"
   ]
  },
  {
   "cell_type": "code",
   "execution_count": 42,
   "metadata": {},
   "outputs": [
    {
     "data": {
      "text/plain": [
       "array([0.72770452, 0.23030523])"
      ]
     },
     "execution_count": 42,
     "metadata": {},
     "output_type": "execute_result"
    }
   ],
   "source": [
    "pca.explained_variance_ratio_"
   ]
  },
  {
   "cell_type": "markdown",
   "metadata": {},
   "source": [
    "**Observation**\n",
    "\n",
    "The first principal component contains 72.77% of the variance and the second principal component contains 23.03% of the variance. Together, the two components contain 95.80% of the information. Remaining information is compromised"
   ]
  },
  {
   "cell_type": "code",
   "execution_count": null,
   "metadata": {},
   "outputs": [],
   "source": []
  }
 ],
 "metadata": {
  "kernelspec": {
   "display_name": "Python 3",
   "language": "python",
   "name": "python3"
  },
  "language_info": {
   "codemirror_mode": {
    "name": "ipython",
    "version": 3
   },
   "file_extension": ".py",
   "mimetype": "text/x-python",
   "name": "python",
   "nbconvert_exporter": "python",
   "pygments_lexer": "ipython3",
   "version": "3.7.6"
  }
 },
 "nbformat": 4,
 "nbformat_minor": 4
}
