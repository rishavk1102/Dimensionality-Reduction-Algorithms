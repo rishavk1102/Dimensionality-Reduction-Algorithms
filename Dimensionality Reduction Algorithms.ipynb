{
 "cells": [
  {
   "cell_type": "markdown",
   "metadata": {},
   "source": [
    "<h1>Dimensionality Reduction Algorithms</h1>"
   ]
  },
  {
   "cell_type": "markdown",
   "metadata": {},
   "source": [
    "<h3>Research and Hands On for Seminar - Presented by Rishav 201840501</h3>"
   ]
  },
  {
   "cell_type": "markdown",
   "metadata": {},
   "source": [
    "<h2>Backward Elimination Algorithm</h2>"
   ]
  },
  {
   "cell_type": "code",
   "execution_count": 3,
   "metadata": {},
   "outputs": [],
   "source": [
    "import pandas as pd\n",
    "from sklearn.datasets import load_iris\n",
    "from sklearn.feature_selection import RFE\n",
    "from sklearn.linear_model import LogisticRegression\n",
    "from yellowbrick.model_selection import feature_importances"
   ]
  },
  {
   "cell_type": "code",
   "execution_count": 11,
   "metadata": {},
   "outputs": [],
   "source": [
    "# Loading IRIS Dataset\n",
    "iris = load_iris()\n",
    "X = iris.data\n",
    "y = iris.target"
   ]
  },
  {
   "cell_type": "code",
   "execution_count": 12,
   "metadata": {},
   "outputs": [],
   "source": [
    "# geberating estimator using logistic regression for RFE\n",
    "estimator = LogisticRegression(max_iter=150)\n",
    "\n",
    "#performing RFE\n",
    "selector = RFE(estimator, n_features_to_select=3, step=1)\n",
    "selector.fit(X, y)\n",
    "X_selected = selector.transform(X)"
   ]
  },
  {
   "cell_type": "code",
   "execution_count": 13,
   "metadata": {},
   "outputs": [
    {
     "name": "stdout",
     "output_type": "stream",
     "text": [
      "Data with initial features\n",
      "   sepal length (cm)  sepal width (cm)  petal length (cm)  petal width (cm)\n",
      "0                5.1               3.5                1.4               0.2\n",
      "1                4.9               3.0                1.4               0.2\n",
      "2                4.7               3.2                1.3               0.2\n",
      "3                4.6               3.1                1.5               0.2\n",
      "4                5.0               3.6                1.4               0.2\n",
      "\n",
      "Data with selected features\n",
      "     0    1    2\n",
      "0  3.5  1.4  0.2\n",
      "1  3.0  1.4  0.2\n",
      "2  3.2  1.3  0.2\n",
      "3  3.1  1.5  0.2\n",
      "4  3.6  1.4  0.2\n",
      "\n"
     ]
    },
    {
     "data": {
      "image/png": "[encoded data removed]",
      "text/plain": [
       "<Figure size 576x396 with 1 Axes>"
      ]
     },
     "metadata": {},
     "output_type": "display_data"
    },
    {
     "name": "stdout",
     "output_type": "stream",
     "text": [
      "FeatureImportances(absolute=False,\n",
      "                   ax=<matplotlib.axes._subplots.AxesSubplot object at 0x7fd39516acd0>,\n",
      "                   colormap=None, colors=None,\n",
      "                   estimator=LogisticRegression(C=1.0, class_weight=None,\n",
      "                                                dual=False, fit_intercept=True,\n",
      "                                                intercept_scaling=1,\n",
      "                                                l1_ratio=None, max_iter=150,\n",
      "                                                multi_class='auto', n_jobs=None,\n",
      "                                                penalty='l2', random_state=None,\n",
      "                                                solver='lbfgs', tol=0.0001,\n",
      "                                                verbose=0, warm_start=False),\n",
      "                   is_fitted='auto',\n",
      "                   labels=['sepal length (cm)', 'sepal width (cm)',\n",
      "                           'petal length (cm)', 'petal width (cm)'],\n",
      "                   relative=False, stack=True, topn=None, xlabel=None)\n"
     ]
    }
   ],
   "source": [
    "print('Data with initial features')\n",
    "print(pd.DataFrame(X, columns=iris.feature_names).head())\n",
    "print()\n",
    "print('Data with selected features')\n",
    "print(pd.DataFrame(X_selected).head())\n",
    "print()\n",
    "print(feature_importances(estimator, X, y, stack=True,labels=iris.feature_names, relative=False))"
   ]
  },
  {
   "cell_type": "markdown",
   "metadata": {},
   "source": [
    "**Observation**\n",
    "\n",
    "From the output, we can see that the recursive feature elimination (RFE) algorithm has eliminated the sepal length from the logistic regression model. sepal length is the least important feature. The remaining features contain the original values as in the initial dataset. \n",
    "\n",
    "As the plot shows, it is better to keep the other 3 features in the model."
   ]
  },
  {
   "cell_type": "markdown",
   "metadata": {},
   "source": [
    "<h2>Forward Selection Algorithm</h2>"
   ]
  },
  {
   "cell_type": "code",
   "execution_count": 14,
   "metadata": {},
   "outputs": [],
   "source": [
    "from sklearn.feature_selection import f_classif\n",
    "from sklearn.feature_selection import SelectKBest"
   ]
  },
  {
   "cell_type": "code",
   "execution_count": 15,
   "metadata": {},
   "outputs": [],
   "source": [
    "# Loading IRIS Dataset\n",
    "iris = load_iris()\n",
    "X = iris.data\n",
    "y = iris.target"
   ]
  },
  {
   "cell_type": "code",
   "execution_count": 16,
   "metadata": {},
   "outputs": [
    {
     "name": "stdout",
     "output_type": "stream",
     "text": [
      "F-values:  [ 119.26450218   49.16004009 1180.16118225  960.0071468 ]\n",
      "\n",
      "Data with initial features\n",
      "   sepal length (cm)  sepal width (cm)  petal length (cm)  petal width (cm)\n",
      "0                5.1               3.5                1.4               0.2\n",
      "1                4.9               3.0                1.4               0.2\n",
      "2                4.7               3.2                1.3               0.2\n",
      "3                4.6               3.1                1.5               0.2\n",
      "4                5.0               3.6                1.4               0.2\n",
      "\n",
      "Data with selected features\n",
      "     0    1    2\n",
      "0  5.1  1.4  0.2\n",
      "1  4.9  1.4  0.2\n",
      "2  4.7  1.3  0.2\n",
      "3  4.6  1.5  0.2\n",
      "4  5.0  1.4  0.2\n"
     ]
    }
   ],
   "source": [
    "#Selecting feature based on f_classif score\n",
    "X_selected = SelectKBest(f_classif, k=3).fit_transform(X, y)\n",
    "\n",
    "# Let's see F-vlues for each feature\n",
    "print('F-values: ', f_classif(X,y)[0])\n",
    "print()\n",
    "print('Data with initial features')\n",
    "print(pd.DataFrame(X, columns=iris.feature_names).head())\n",
    "print()\n",
    "print('Data with selected features')\n",
    "print(pd.DataFrame(X_selected).head())"
   ]
  },
  {
   "cell_type": "markdown",
   "metadata": {},
   "source": [
    "**Observation**\n",
    "\n",
    "From the output, we can see that the forward feature selection process has selected the sepal length, petal length and petal width which have higher F-values."
   ]
  },
  {
   "cell_type": "markdown",
   "metadata": {},
   "source": [
    "<h2>Random Forests Algorithm</h2>"
   ]
  },
  {
   "cell_type": "code",
   "execution_count": 1,
   "metadata": {},
   "outputs": [],
   "source": [
    "import seaborn as sns\n",
    "import matplotlib.pyplot as plt\n",
    "from sklearn.ensemble import RandomForestClassifier"
   ]
  },
  {
   "cell_type": "code",
   "execution_count": 4,
   "metadata": {},
   "outputs": [],
   "source": [
    "# Loading IRIS Dataset\n",
    "iris = load_iris()\n",
    "X = iris.data\n",
    "y = iris.target"
   ]
  },
  {
   "cell_type": "code",
   "execution_count": 5,
   "metadata": {},
   "outputs": [
    {
     "name": "stdout",
     "output_type": "stream",
     "text": [
      "Feature importances:  [0.08540008 0.01123495 0.45846811 0.44489686]\n",
      "AxesSubplot(0.125,0.125;0.775x0.755)\n"
     ]
    },
    {
     "data": {
      "text/plain": [
       "Text(0.5, 1.0, 'Visualizing Important Features')"
      ]
     },
     "execution_count": 5,
     "metadata": {},
     "output_type": "execute_result"
    },
    {
     "data": {
      "image/png": "[encoded data removed]",
      "text/plain": [
       "<Figure size 576x396 with 1 Axes>"
      ]
     },
     "metadata": {},
     "output_type": "display_data"
    }
   ],
   "source": [
    "#Random forest classification\n",
    "rf = RandomForestClassifier(n_estimators=100, max_depth=3, bootstrap=True, n_jobs=-1, random_state=0)\n",
    "rf.fit(X, y)\n",
    "\n",
    "feature_imp = pd.Series(rf.feature_importances_, index=iris.feature_names).sort_values(ascending=False)\n",
    "\n",
    "print('Feature importances: ', rf.feature_importances_)\n",
    "print(sns.barplot(x=feature_imp, y=feature_imp.index))\n",
    "plt.xlabel('Feature Importance Score', fontsize=12)\n",
    "plt.ylabel('Features', fontsize=12)\n",
    "plt.title(\"Visualizing Important Features\", fontsize=15, pad=15)"
   ]
  },
  {
   "cell_type": "markdown",
   "metadata": {},
   "source": [
    "**Observation**\n",
    "\n",
    "By looking at the feature importance, we can decide to drop the sepal width (cm) feature because it does not contribute enough for making the model"
   ]
  },
  {
   "cell_type": "markdown",
   "metadata": {},
   "source": [
    "**Testing our observation on Random Forest Classifier by using Sckit-Learn SelectFromModel**"
   ]
  },
  {
   "cell_type": "code",
   "execution_count": 7,
   "metadata": {},
   "outputs": [
    {
     "name": "stdout",
     "output_type": "stream",
     "text": [
      "Data with initial features\n",
      "   sepal length (cm)  sepal width (cm)  petal length (cm)  petal width (cm)\n",
      "0                5.1               3.5                1.4               0.2\n",
      "1                4.9               3.0                1.4               0.2\n",
      "2                4.7               3.2                1.3               0.2\n",
      "3                4.6               3.1                1.5               0.2\n",
      "4                5.0               3.6                1.4               0.2\n",
      "\n",
      "Data with selected features\n",
      "     0    1    2\n",
      "0  5.1  1.4  0.2\n",
      "1  4.9  1.4  0.2\n",
      "2  4.7  1.3  0.2\n",
      "3  4.6  1.5  0.2\n",
      "4  5.0  1.4  0.2\n"
     ]
    }
   ],
   "source": [
    "from sklearn.feature_selection import SelectFromModel\n",
    "\n",
    "# SelectFromModel accepts a threshold parameter and will select\n",
    "# the features whose importance (defined by the coefficients) are above this threshold.\n",
    "selector = SelectFromModel(rf, threshold=0.05)\n",
    "features_important = selector.fit_transform(X, y)\n",
    "\n",
    "print('Data with initial features')\n",
    "print(pd.DataFrame(X, columns=iris.feature_names).head())\n",
    "print()\n",
    "print('Data with selected features')\n",
    "print(pd.DataFrame(features_important).head())"
   ]
  },
  {
   "cell_type": "markdown",
   "metadata": {},
   "source": [
    "The values returned by **SelectFromModel** can be used as the new input X for the Random Forest Classifier which is now trained only on the selected features"
   ]
  },
  {
   "cell_type": "code",
   "execution_count": 9,
   "metadata": {},
   "outputs": [
    {
     "name": "stdout",
     "output_type": "stream",
     "text": [
      "Feature importances:  [0.18127352 0.45474764 0.36397884]\n",
      "AxesSubplot(0.125,0.125;0.775x0.755)\n"
     ]
    },
    {
     "data": {
      "text/plain": [
       "Text(0.5, 1.0, 'Visualizing Important Features')"
      ]
     },
     "execution_count": 9,
     "metadata": {},
     "output_type": "execute_result"
    },
    {
     "data": {
      "image/png": "[encoded data removed]",
      "text/plain": [
       "<Figure size 576x396 with 1 Axes>"
      ]
     },
     "metadata": {},
     "output_type": "display_data"
    }
   ],
   "source": [
    "rf = RandomForestClassifier(n_estimators=100, max_depth=3,\n",
    "                           bootstrap=True, n_jobs=-1, random_state=0)\n",
    "\n",
    "rf.fit(features_important, y)\n",
    "\n",
    "#feature_imp = pd.Series(rf.feature_importances_, index=iris.feature_names).sort_values(ascending=False)\n",
    "\n",
    "print('Feature importances: ', rf.feature_importances_)\n",
    "print(sns.barplot(x=feature_imp, y=feature_imp.index))\n",
    "plt.xlabel('Feature Importance Score', fontsize=12)\n",
    "plt.ylabel('Features', fontsize=12)\n",
    "plt.title(\"Visualizing Important Features\", fontsize=15, pad=15)"
   ]
  },
  {
   "cell_type": "markdown",
   "metadata": {},
   "source": [
    "**Observation**\n",
    "\n",
    "We can see that both the graphs are same hence concluding we can drop sepal length"
   ]
  },
  {
   "cell_type": "markdown",
   "metadata": {},
   "source": [
    "<h2>PCA for Data Visualization</h2>"
   ]
  },
  {
   "cell_type": "code",
   "execution_count": 11,
   "metadata": {},
   "outputs": [
    {
     "name": "stdout",
     "output_type": "stream",
     "text": [
      "     sepal length  sepal width  petal length  petal width          target\n",
      "0             5.1          3.5           1.4          0.2     Iris-setosa\n",
      "1             4.9          3.0           1.4          0.2     Iris-setosa\n",
      "2             4.7          3.2           1.3          0.2     Iris-setosa\n",
      "3             4.6          3.1           1.5          0.2     Iris-setosa\n",
      "4             5.0          3.6           1.4          0.2     Iris-setosa\n",
      "..            ...          ...           ...          ...             ...\n",
      "145           6.7          3.0           5.2          2.3  Iris-virginica\n",
      "146           6.3          2.5           5.0          1.9  Iris-virginica\n",
      "147           6.5          3.0           5.2          2.0  Iris-virginica\n",
      "148           6.2          3.4           5.4          2.3  Iris-virginica\n",
      "149           5.9          3.0           5.1          1.8  Iris-virginica\n",
      "\n",
      "[150 rows x 5 columns]\n"
     ]
    }
   ],
   "source": [
    "# Another method to load iris dataset to pandas\n",
    "url = \"https://archive.ics.uci.edu/ml/machine-learning-databases/iris/iris.data\"\n",
    "# load dataset into Pandas DataFrame\n",
    "df = pd.read_csv(url, names=['sepal length','sepal width','petal length','petal width','target'])\n",
    "\n",
    "print(df)"
   ]
  },
  {
   "cell_type": "code",
   "execution_count": 21,
   "metadata": {},
   "outputs": [
    {
     "name": "stdout",
     "output_type": "stream",
     "text": [
      "╒════════════════╤═══════════════╤════════════════╤═══════════════╕\n",
      "│   sepal length │   sepal width │   petal length │   petal width │\n",
      "╞════════════════╪═══════════════╪════════════════╪═══════════════╡\n",
      "│      -0.900681 │      1.03206  │       -1.34127 │      -1.31298 │\n",
      "├────────────────┼───────────────┼────────────────┼───────────────┤\n",
      "│      -1.14302  │     -0.124958 │       -1.34127 │      -1.31298 │\n",
      "├────────────────┼───────────────┼────────────────┼───────────────┤\n",
      "│      -1.38535  │      0.337848 │       -1.39814 │      -1.31298 │\n",
      "├────────────────┼───────────────┼────────────────┼───────────────┤\n",
      "│      -1.50652  │      0.106445 │       -1.28441 │      -1.31298 │\n",
      "├────────────────┼───────────────┼────────────────┼───────────────┤\n",
      "│      -1.02185  │      1.26346  │       -1.34127 │      -1.31298 │\n",
      "╘════════════════╧═══════════════╧════════════════╧═══════════════╛\n"
     ]
    }
   ],
   "source": [
    "# Standardizing the data, i.e, N(0, 1)\n",
    "from sklearn.preprocessing import StandardScaler\n",
    "from tabulate import tabulate\n",
    "\n",
    "features = ['sepal length', 'sepal width', 'petal length', 'petal width']\n",
    "\n",
    "# Separating out the features\n",
    "x = df.loc[:, features].values\n",
    "\n",
    "# Separating out the target\n",
    "y = df.loc[:,['target']].values\n",
    "\n",
    "# Standardizing the features\n",
    "x = StandardScaler().fit_transform(x)\n",
    "\n",
    "print(tabulate(x[:5], features, tablefmt=\"fancy_grid\"))"
   ]
  },
  {
   "cell_type": "code",
   "execution_count": 26,
   "metadata": {},
   "outputs": [
    {
     "name": "stdout",
     "output_type": "stream",
     "text": [
      "╒═════════════════════════╤═════════════════════════╕\n",
      "│   principal component 1 │   principal component 2 │\n",
      "╞═════════════════════════╪═════════════════════════╡\n",
      "│                -2.26454 │                0.505704 │\n",
      "├─────────────────────────┼─────────────────────────┤\n",
      "│                -2.08643 │               -0.655405 │\n",
      "├─────────────────────────┼─────────────────────────┤\n",
      "│                -2.36795 │               -0.318477 │\n",
      "├─────────────────────────┼─────────────────────────┤\n",
      "│                -2.3042  │               -0.575368 │\n",
      "├─────────────────────────┼─────────────────────────┤\n",
      "│                -2.38878 │                0.674767 │\n",
      "╘═════════════════════════╧═════════════════════════╛\n"
     ]
    }
   ],
   "source": [
    "# Projection to 2D\n",
    "from sklearn.decomposition import PCA\n",
    "\n",
    "# n_components = 2, i.e, two main dimensions of the variation\n",
    "pca = PCA(n_components=2)\n",
    "principalComponents = pca.fit_transform(x)\n",
    "\n",
    "principalDf = pd.DataFrame(data = principalComponents, columns = ['principal component 1', 'principal component 2'])\n",
    "\n",
    "principalDf_numpy = principalDf.to_numpy()\n",
    "print(tabulate(principalDf_numpy[:5], ['principal component 1', 'principal component 2'], tablefmt=\"fancy_grid\"))"
   ]
  },
  {
   "cell_type": "code",
   "execution_count": 32,
   "metadata": {},
   "outputs": [
    {
     "name": "stdout",
     "output_type": "stream",
     "text": [
      "╒═════════════════════════╤═════════════════════════╤═════════════╕\n",
      "│   principal component 1 │   principal component 2 │ target      │\n",
      "╞═════════════════════════╪═════════════════════════╪═════════════╡\n",
      "│                -2.26454 │               0.505704  │ Iris-setosa │\n",
      "├─────────────────────────┼─────────────────────────┼─────────────┤\n",
      "│                -2.08643 │              -0.655405  │ Iris-setosa │\n",
      "├─────────────────────────┼─────────────────────────┼─────────────┤\n",
      "│                -2.36795 │              -0.318477  │ Iris-setosa │\n",
      "├─────────────────────────┼─────────────────────────┼─────────────┤\n",
      "│                -2.3042  │              -0.575368  │ Iris-setosa │\n",
      "├─────────────────────────┼─────────────────────────┼─────────────┤\n",
      "│                -2.38878 │               0.674767  │ Iris-setosa │\n",
      "├─────────────────────────┼─────────────────────────┼─────────────┤\n",
      "│                -2.07054 │               1.51855   │ Iris-setosa │\n",
      "├─────────────────────────┼─────────────────────────┼─────────────┤\n",
      "│                -2.44571 │               0.0745627 │ Iris-setosa │\n",
      "├─────────────────────────┼─────────────────────────┼─────────────┤\n",
      "│                -2.23384 │               0.247614  │ Iris-setosa │\n",
      "├─────────────────────────┼─────────────────────────┼─────────────┤\n",
      "│                -2.34196 │              -1.09515   │ Iris-setosa │\n",
      "├─────────────────────────┼─────────────────────────┼─────────────┤\n",
      "│                -2.18868 │              -0.448629  │ Iris-setosa │\n",
      "╘═════════════════════════╧═════════════════════════╧═════════════╛\n",
      "\n",
      "╒═════════════════════════╤═════════════════════════╤════════════════╕\n",
      "│   principal component 1 │   principal component 2 │ target         │\n",
      "╞═════════════════════════╪═════════════════════════╪════════════════╡\n",
      "│                2.01616  │               0.610397  │ Iris-virginica │\n",
      "├─────────────────────────┼─────────────────────────┼────────────────┤\n",
      "│                1.90312  │               0.686025  │ Iris-virginica │\n",
      "├─────────────────────────┼─────────────────────────┼────────────────┤\n",
      "│                1.15319  │              -0.701326  │ Iris-virginica │\n",
      "├─────────────────────────┼─────────────────────────┼────────────────┤\n",
      "│                2.04331  │               0.864685  │ Iris-virginica │\n",
      "├─────────────────────────┼─────────────────────────┼────────────────┤\n",
      "│                2.00169  │               1.04855   │ Iris-virginica │\n",
      "├─────────────────────────┼─────────────────────────┼────────────────┤\n",
      "│                1.87052  │               0.382822  │ Iris-virginica │\n",
      "├─────────────────────────┼─────────────────────────┼────────────────┤\n",
      "│                1.55849  │              -0.905314  │ Iris-virginica │\n",
      "├─────────────────────────┼─────────────────────────┼────────────────┤\n",
      "│                1.52085  │               0.266795  │ Iris-virginica │\n",
      "├─────────────────────────┼─────────────────────────┼────────────────┤\n",
      "│                1.37639  │               1.01636   │ Iris-virginica │\n",
      "├─────────────────────────┼─────────────────────────┼────────────────┤\n",
      "│                0.959299 │              -0.0222839 │ Iris-virginica │\n",
      "╘═════════════════════════╧═════════════════════════╧════════════════╛\n"
     ]
    }
   ],
   "source": [
    "# adding target to dataframe\n",
    "finalDf = pd.concat([principalDf, df[['target']]], axis = 1)\n",
    "\n",
    "finalDf_numpy = finalDf.to_numpy()\n",
    "print(tabulate(finalDf_numpy[:10], \n",
    "               ['principal component 1', 'principal component 2', 'target'], \n",
    "               tablefmt=\"fancy_grid\"))\n",
    "print()\n",
    "print(tabulate(finalDf_numpy[140:], \n",
    "               ['principal component 1', 'principal component 2', 'target'], \n",
    "               tablefmt=\"fancy_grid\"))"
   ]
  },
  {
   "cell_type": "code",
   "execution_count": 40,
   "metadata": {},
   "outputs": [
    {
     "data": {
      "image/png": "[encoded data removed]",
      "text/plain": [
       "<Figure size 576x576 with 1 Axes>"
      ]
     },
     "metadata": {},
     "output_type": "display_data"
    }
   ],
   "source": [
    "# Visualizing 2D projection\n",
    "fig = plt.figure(figsize = (8,8))\n",
    "\n",
    "ax = fig.add_subplot(1,1,1)\n",
    "ax.set_xlabel('Principal Component 1', fontsize = 15)\n",
    "ax.set_ylabel('Principal Component 2', fontsize = 15)\n",
    "ax.set_title('2 component PCA', fontsize = 20)\n",
    "\n",
    "targets = ['Iris-setosa', 'Iris-versicolor', 'Iris-virginica']\n",
    "colors = ['r', 'g', 'b']\n",
    "\n",
    "for target, color in zip(targets,colors):\n",
    "   indicesToKeep = finalDf['target'] == target\n",
    "   ax.scatter(finalDf.loc[indicesToKeep, 'principal component 1']\n",
    "              , finalDf.loc[indicesToKeep, 'principal component 2']\n",
    "              , c = color\n",
    "              , s = 50)\n",
    "    \n",
    "ax.legend(targets)\n",
    "ax.grid()\n",
    "\n",
    "plt.grid()\n",
    "plt.show()"
   ]
  },
  {
   "cell_type": "code",
   "execution_count": 42,
   "metadata": {},
   "outputs": [
    {
     "data": {
      "text/plain": [
       "array([0.72770452, 0.23030523])"
      ]
     },
     "execution_count": 42,
     "metadata": {},
     "output_type": "execute_result"
    }
   ],
   "source": [
    "pca.explained_variance_ratio_"
   ]
  },
  {
   "cell_type": "markdown",
   "metadata": {},
   "source": [
    "**Observation**\n",
    "\n",
    "The first principal component contains 72.77% of the variance and the second principal component contains 23.03% of the variance. Together, the two components contain 95.80% of the information. Remaining information is compromised"
   ]
  },
  {
   "cell_type": "markdown",
   "metadata": {},
   "source": [
    "<h2>PCA to speed up Machine Learning Algorithms</h2>"
   ]
  },
  {
   "cell_type": "code",
   "execution_count": 43,
   "metadata": {},
   "outputs": [],
   "source": [
    "#importing MNIST Dataset\n",
    "from sklearn.datasets import fetch_openml\n",
    "mnist = fetch_openml('mnist_784')"
   ]
  },
  {
   "cell_type": "code",
   "execution_count": 44,
   "metadata": {},
   "outputs": [],
   "source": [
    "#split data into training and train the dataset\n",
    "from sklearn.model_selection import train_test_split\n",
    "\n",
    "# test_size: what proportion of original data is used for test set\n",
    "train_img, test_img, train_lbl, test_lbl = train_test_split( mnist.data, \n",
    "                                                            mnist.target, test_size=1/7.0, random_state=0)"
   ]
  },
  {
   "cell_type": "markdown",
   "metadata": {},
   "source": [
    "**Observation**\n",
    "\n",
    "Here 6/7th of the data is in training and 1/7th of the data is in the test set"
   ]
  },
  {
   "cell_type": "code",
   "execution_count": 45,
   "metadata": {},
   "outputs": [],
   "source": [
    "# standardizing the data\n",
    "from sklearn.preprocessing import StandardScaler\n",
    "scaler = StandardScaler()\n",
    "\n",
    "# Fit on training set only.\n",
    "scaler.fit(train_img)\n",
    "\n",
    "# Apply transform to both the training set and the test set.\n",
    "train_img = scaler.transform(train_img)"
   ]
  },
  {
   "cell_type": "code",
   "execution_count": 46,
   "metadata": {},
   "outputs": [
    {
     "data": {
      "text/plain": [
       "PCA(copy=True, iterated_power='auto', n_components=0.95, random_state=None,\n",
       "    svd_solver='auto', tol=0.0, whiten=False)"
      ]
     },
     "execution_count": 46,
     "metadata": {},
     "output_type": "execute_result"
    }
   ],
   "source": [
    "# fitting PCA in training set\n",
    "from sklearn.decomposition import PCA\n",
    "\n",
    "# Make an instance of the Model\n",
    "pca = PCA(.95)\n",
    "pca.fit(train_img)"
   ]
  },
  {
   "cell_type": "code",
   "execution_count": 47,
   "metadata": {},
   "outputs": [],
   "source": [
    "# Applying the mapping (transform)to both the training set and the test set\n",
    "train_img = pca.transform(train_img)\n",
    "test_img = pca.transform(test_img)"
   ]
  },
  {
   "cell_type": "code",
   "execution_count": 48,
   "metadata": {},
   "outputs": [
    {
     "name": "stderr",
     "output_type": "stream",
     "text": [
      "/Users/rishav/Documents/Development_Tools/anaconda3/lib/python3.7/site-packages/sklearn/linear_model/_logistic.py:940: ConvergenceWarning: lbfgs failed to converge (status=1):\n",
      "STOP: TOTAL NO. of ITERATIONS REACHED LIMIT.\n",
      "\n",
      "Increase the number of iterations (max_iter) or scale the data as shown in:\n",
      "    https://scikit-learn.org/stable/modules/preprocessing.html\n",
      "Please also refer to the documentation for alternative solver options:\n",
      "    https://scikit-learn.org/stable/modules/linear_model.html#logistic-regression\n",
      "  extra_warning_msg=_LOGISTIC_SOLVER_CONVERGENCE_MSG)\n"
     ]
    },
    {
     "data": {
      "text/plain": [
       "array(['0', '4', '1', '2', '4', '9', '7', '8', '1', '7'], dtype=object)"
      ]
     },
     "execution_count": 48,
     "metadata": {},
     "output_type": "execute_result"
    }
   ],
   "source": [
    "# Applying Logistic Regression to the Transformed Data\n",
    "from sklearn.linear_model import LogisticRegression\n",
    "\n",
    "# all parameters not specified are set to their defaults\n",
    "# default solver is incredibly slow which is why it was changed to 'lbfgs'\n",
    "logisticRegr = LogisticRegression(solver = 'lbfgs')\n",
    "\n",
    "# training the model on data\n",
    "logisticRegr.fit(train_img, train_lbl)\n",
    "\n",
    "# Predict for One Observation (image)\n",
    "logisticRegr.predict(test_img[0].reshape(1,-1))\n",
    "\n",
    "# Predict for Multiple Observations at once (image)\n",
    "logisticRegr.predict(test_img[0:10])"
   ]
  },
  {
   "cell_type": "code",
   "execution_count": 49,
   "metadata": {},
   "outputs": [
    {
     "data": {
      "text/plain": [
       "0.8393"
      ]
     },
     "execution_count": 49,
     "metadata": {},
     "output_type": "execute_result"
    }
   ],
   "source": [
    "logisticRegr.score(test_img, test_lbl)"
   ]
  },
  {
   "cell_type": "markdown",
   "metadata": {},
   "source": [
    "<h2>Factor Analysis Algorithm</h2>"
   ]
  },
  {
   "cell_type": "code",
   "execution_count": 50,
   "metadata": {},
   "outputs": [
    {
     "data": {
      "text/html": [
       "<div>\n",
       "<style scoped>\n",
       "    .dataframe tbody tr th:only-of-type {\n",
       "        vertical-align: middle;\n",
       "    }\n",
       "\n",
       "    .dataframe tbody tr th {\n",
       "        vertical-align: top;\n",
       "    }\n",
       "\n",
       "    .dataframe thead th {\n",
       "        text-align: right;\n",
       "    }\n",
       "</style>\n",
       "<table border=\"1\" class=\"dataframe\">\n",
       "  <thead>\n",
       "    <tr style=\"text-align: right;\">\n",
       "      <th></th>\n",
       "      <th>COUNTRY</th>\n",
       "      <th>X1</th>\n",
       "      <th>X2</th>\n",
       "      <th>X3</th>\n",
       "      <th>X4</th>\n",
       "      <th>X5</th>\n",
       "      <th>X6</th>\n",
       "      <th>X7</th>\n",
       "    </tr>\n",
       "  </thead>\n",
       "  <tbody>\n",
       "    <tr>\n",
       "      <th>0</th>\n",
       "      <td>Argentina</td>\n",
       "      <td>11.61</td>\n",
       "      <td>22.94</td>\n",
       "      <td>54.50</td>\n",
       "      <td>2.15</td>\n",
       "      <td>4.43</td>\n",
       "      <td>9.79</td>\n",
       "      <td>178.52</td>\n",
       "    </tr>\n",
       "    <tr>\n",
       "      <th>1</th>\n",
       "      <td>Australia</td>\n",
       "      <td>11.20</td>\n",
       "      <td>22.35</td>\n",
       "      <td>51.80</td>\n",
       "      <td>1.98</td>\n",
       "      <td>4.13</td>\n",
       "      <td>9.08</td>\n",
       "      <td>152.37</td>\n",
       "    </tr>\n",
       "    <tr>\n",
       "      <th>2</th>\n",
       "      <td>Austria</td>\n",
       "      <td>11.43</td>\n",
       "      <td>23.09</td>\n",
       "      <td>50.62</td>\n",
       "      <td>1.99</td>\n",
       "      <td>4.22</td>\n",
       "      <td>9.34</td>\n",
       "      <td>159.37</td>\n",
       "    </tr>\n",
       "    <tr>\n",
       "      <th>3</th>\n",
       "      <td>Belgium</td>\n",
       "      <td>11.41</td>\n",
       "      <td>23.04</td>\n",
       "      <td>52.00</td>\n",
       "      <td>2.00</td>\n",
       "      <td>4.14</td>\n",
       "      <td>8.88</td>\n",
       "      <td>157.85</td>\n",
       "    </tr>\n",
       "    <tr>\n",
       "      <th>4</th>\n",
       "      <td>Bermuda</td>\n",
       "      <td>11.46</td>\n",
       "      <td>23.05</td>\n",
       "      <td>53.30</td>\n",
       "      <td>2.16</td>\n",
       "      <td>4.58</td>\n",
       "      <td>9.81</td>\n",
       "      <td>169.98</td>\n",
       "    </tr>\n",
       "    <tr>\n",
       "      <th>5</th>\n",
       "      <td>Brazil</td>\n",
       "      <td>11.31</td>\n",
       "      <td>23.17</td>\n",
       "      <td>52.80</td>\n",
       "      <td>2.10</td>\n",
       "      <td>4.49</td>\n",
       "      <td>9.77</td>\n",
       "      <td>168.75</td>\n",
       "    </tr>\n",
       "    <tr>\n",
       "      <th>6</th>\n",
       "      <td>Burma</td>\n",
       "      <td>12.14</td>\n",
       "      <td>24.47</td>\n",
       "      <td>55.00</td>\n",
       "      <td>2.18</td>\n",
       "      <td>4.45</td>\n",
       "      <td>9.51</td>\n",
       "      <td>191.02</td>\n",
       "    </tr>\n",
       "    <tr>\n",
       "      <th>7</th>\n",
       "      <td>Canada</td>\n",
       "      <td>11.00</td>\n",
       "      <td>22.25</td>\n",
       "      <td>50.60</td>\n",
       "      <td>2.00</td>\n",
       "      <td>4.06</td>\n",
       "      <td>8.81</td>\n",
       "      <td>149.45</td>\n",
       "    </tr>\n",
       "    <tr>\n",
       "      <th>8</th>\n",
       "      <td>Chille</td>\n",
       "      <td>12.00</td>\n",
       "      <td>21.52</td>\n",
       "      <td>54.90</td>\n",
       "      <td>2.05</td>\n",
       "      <td>4.23</td>\n",
       "      <td>9.37</td>\n",
       "      <td>171.38</td>\n",
       "    </tr>\n",
       "    <tr>\n",
       "      <th>9</th>\n",
       "      <td>China</td>\n",
       "      <td>11.95</td>\n",
       "      <td>24.41</td>\n",
       "      <td>54.97</td>\n",
       "      <td>2.08</td>\n",
       "      <td>4.33</td>\n",
       "      <td>9.31</td>\n",
       "      <td>168.48</td>\n",
       "    </tr>\n",
       "    <tr>\n",
       "      <th>10</th>\n",
       "      <td>Colombia</td>\n",
       "      <td>11.60</td>\n",
       "      <td>24.00</td>\n",
       "      <td>53.26</td>\n",
       "      <td>2.11</td>\n",
       "      <td>4.35</td>\n",
       "      <td>9.46</td>\n",
       "      <td>165.42</td>\n",
       "    </tr>\n",
       "    <tr>\n",
       "      <th>11</th>\n",
       "      <td>Cook Islands</td>\n",
       "      <td>12.90</td>\n",
       "      <td>27.10</td>\n",
       "      <td>60.40</td>\n",
       "      <td>2.30</td>\n",
       "      <td>4.84</td>\n",
       "      <td>11.10</td>\n",
       "      <td>233.22</td>\n",
       "    </tr>\n",
       "    <tr>\n",
       "      <th>12</th>\n",
       "      <td>Costerica</td>\n",
       "      <td>11.96</td>\n",
       "      <td>24.60</td>\n",
       "      <td>58.25</td>\n",
       "      <td>2.21</td>\n",
       "      <td>4.68</td>\n",
       "      <td>10.43</td>\n",
       "      <td>171.80</td>\n",
       "    </tr>\n",
       "    <tr>\n",
       "      <th>13</th>\n",
       "      <td>Czechoslovakia</td>\n",
       "      <td>11.09</td>\n",
       "      <td>21.97</td>\n",
       "      <td>47.99</td>\n",
       "      <td>1.89</td>\n",
       "      <td>4.14</td>\n",
       "      <td>3.92</td>\n",
       "      <td>158.85</td>\n",
       "    </tr>\n",
       "    <tr>\n",
       "      <th>14</th>\n",
       "      <td>Denmark</td>\n",
       "      <td>11.42</td>\n",
       "      <td>23.52</td>\n",
       "      <td>63.60</td>\n",
       "      <td>2.03</td>\n",
       "      <td>4.18</td>\n",
       "      <td>8.71</td>\n",
       "      <td>151.75</td>\n",
       "    </tr>\n",
       "    <tr>\n",
       "      <th>15</th>\n",
       "      <td>Dominican Republic</td>\n",
       "      <td>11.79</td>\n",
       "      <td>24.05</td>\n",
       "      <td>56.05</td>\n",
       "      <td>2.24</td>\n",
       "      <td>4.74</td>\n",
       "      <td>9.89</td>\n",
       "      <td>203.88</td>\n",
       "    </tr>\n",
       "    <tr>\n",
       "      <th>16</th>\n",
       "      <td>Finland</td>\n",
       "      <td>11.13</td>\n",
       "      <td>22.39</td>\n",
       "      <td>50.14</td>\n",
       "      <td>2.03</td>\n",
       "      <td>4.10</td>\n",
       "      <td>8.92</td>\n",
       "      <td>154.23</td>\n",
       "    </tr>\n",
       "    <tr>\n",
       "      <th>17</th>\n",
       "      <td>France</td>\n",
       "      <td>11.15</td>\n",
       "      <td>22.19</td>\n",
       "      <td>51.73</td>\n",
       "      <td>2.00</td>\n",
       "      <td>4.14</td>\n",
       "      <td>8.98</td>\n",
       "      <td>154.27</td>\n",
       "    </tr>\n",
       "    <tr>\n",
       "      <th>18</th>\n",
       "      <td>German Democratic Republic</td>\n",
       "      <td>10.89</td>\n",
       "      <td>21.71</td>\n",
       "      <td>48.16</td>\n",
       "      <td>1.93</td>\n",
       "      <td>3.96</td>\n",
       "      <td>8.75</td>\n",
       "      <td>157.68</td>\n",
       "    </tr>\n",
       "    <tr>\n",
       "      <th>19</th>\n",
       "      <td>Federal Republic of Germany</td>\n",
       "      <td>11.01</td>\n",
       "      <td>22.39</td>\n",
       "      <td>49.75</td>\n",
       "      <td>1.95</td>\n",
       "      <td>4.03</td>\n",
       "      <td>8.59</td>\n",
       "      <td>148.53</td>\n",
       "    </tr>\n",
       "    <tr>\n",
       "      <th>20</th>\n",
       "      <td>Great Britain and Nothern Island</td>\n",
       "      <td>11.00</td>\n",
       "      <td>22.13</td>\n",
       "      <td>50.46</td>\n",
       "      <td>1.98</td>\n",
       "      <td>4.03</td>\n",
       "      <td>8.62</td>\n",
       "      <td>149.72</td>\n",
       "    </tr>\n",
       "    <tr>\n",
       "      <th>21</th>\n",
       "      <td>Greece</td>\n",
       "      <td>11.79</td>\n",
       "      <td>24.08</td>\n",
       "      <td>54.93</td>\n",
       "      <td>2.07</td>\n",
       "      <td>4.35</td>\n",
       "      <td>9.87</td>\n",
       "      <td>182.20</td>\n",
       "    </tr>\n",
       "    <tr>\n",
       "      <th>22</th>\n",
       "      <td>Guatemala</td>\n",
       "      <td>11.84</td>\n",
       "      <td>24.54</td>\n",
       "      <td>56.09</td>\n",
       "      <td>2.28</td>\n",
       "      <td>4.86</td>\n",
       "      <td>10.54</td>\n",
       "      <td>215.80</td>\n",
       "    </tr>\n",
       "    <tr>\n",
       "      <th>23</th>\n",
       "      <td>Hungary</td>\n",
       "      <td>11.45</td>\n",
       "      <td>23.06</td>\n",
       "      <td>51.50</td>\n",
       "      <td>2.01</td>\n",
       "      <td>4.14</td>\n",
       "      <td>8.98</td>\n",
       "      <td>156.37</td>\n",
       "    </tr>\n",
       "    <tr>\n",
       "      <th>24</th>\n",
       "      <td>India</td>\n",
       "      <td>11.95</td>\n",
       "      <td>24.28</td>\n",
       "      <td>53.60</td>\n",
       "      <td>2.10</td>\n",
       "      <td>4.32</td>\n",
       "      <td>9.98</td>\n",
       "      <td>188.30</td>\n",
       "    </tr>\n",
       "    <tr>\n",
       "      <th>25</th>\n",
       "      <td>Indonesia</td>\n",
       "      <td>11.85</td>\n",
       "      <td>24.24</td>\n",
       "      <td>55.34</td>\n",
       "      <td>2.22</td>\n",
       "      <td>4.61</td>\n",
       "      <td>10.02</td>\n",
       "      <td>201.28</td>\n",
       "    </tr>\n",
       "    <tr>\n",
       "      <th>26</th>\n",
       "      <td>Ireland</td>\n",
       "      <td>11.43</td>\n",
       "      <td>23.51</td>\n",
       "      <td>53.24</td>\n",
       "      <td>2.05</td>\n",
       "      <td>4.11</td>\n",
       "      <td>8.89</td>\n",
       "      <td>149.38</td>\n",
       "    </tr>\n",
       "    <tr>\n",
       "      <th>27</th>\n",
       "      <td>Israel</td>\n",
       "      <td>11.45</td>\n",
       "      <td>23.57</td>\n",
       "      <td>54.90</td>\n",
       "      <td>2.10</td>\n",
       "      <td>4.25</td>\n",
       "      <td>9.37</td>\n",
       "      <td>160.48</td>\n",
       "    </tr>\n",
       "    <tr>\n",
       "      <th>28</th>\n",
       "      <td>Italy</td>\n",
       "      <td>11.29</td>\n",
       "      <td>23.00</td>\n",
       "      <td>52.01</td>\n",
       "      <td>1.96</td>\n",
       "      <td>3.98</td>\n",
       "      <td>8.63</td>\n",
       "      <td>151.82</td>\n",
       "    </tr>\n",
       "    <tr>\n",
       "      <th>29</th>\n",
       "      <td>Japan</td>\n",
       "      <td>11.73</td>\n",
       "      <td>24.00</td>\n",
       "      <td>53.73</td>\n",
       "      <td>2.09</td>\n",
       "      <td>5.35</td>\n",
       "      <td>9.20</td>\n",
       "      <td>150.50</td>\n",
       "    </tr>\n",
       "    <tr>\n",
       "      <th>30</th>\n",
       "      <td>Kenya</td>\n",
       "      <td>11.73</td>\n",
       "      <td>23.88</td>\n",
       "      <td>52.70</td>\n",
       "      <td>2.00</td>\n",
       "      <td>5.15</td>\n",
       "      <td>9.20</td>\n",
       "      <td>181.05</td>\n",
       "    </tr>\n",
       "    <tr>\n",
       "      <th>31</th>\n",
       "      <td>Korea</td>\n",
       "      <td>11.96</td>\n",
       "      <td>24.49</td>\n",
       "      <td>55.70</td>\n",
       "      <td>2.15</td>\n",
       "      <td>4.42</td>\n",
       "      <td>9.62</td>\n",
       "      <td>164.65</td>\n",
       "    </tr>\n",
       "    <tr>\n",
       "      <th>32</th>\n",
       "      <td>Democratic People's Republic of Korea</td>\n",
       "      <td>12.25</td>\n",
       "      <td>25.78</td>\n",
       "      <td>51.20</td>\n",
       "      <td>1.97</td>\n",
       "      <td>4.25</td>\n",
       "      <td>9.35</td>\n",
       "      <td>179.17</td>\n",
       "    </tr>\n",
       "    <tr>\n",
       "      <th>33</th>\n",
       "      <td>Luxembourg</td>\n",
       "      <td>12.03</td>\n",
       "      <td>24.96</td>\n",
       "      <td>56.10</td>\n",
       "      <td>2.07</td>\n",
       "      <td>4.38</td>\n",
       "      <td>9.64</td>\n",
       "      <td>174.68</td>\n",
       "    </tr>\n",
       "    <tr>\n",
       "      <th>34</th>\n",
       "      <td>Malaysia</td>\n",
       "      <td>12.23</td>\n",
       "      <td>24.21</td>\n",
       "      <td>55.09</td>\n",
       "      <td>2.19</td>\n",
       "      <td>4.69</td>\n",
       "      <td>10.46</td>\n",
       "      <td>182.17</td>\n",
       "    </tr>\n",
       "    <tr>\n",
       "      <th>35</th>\n",
       "      <td>Mauritius</td>\n",
       "      <td>11.76</td>\n",
       "      <td>25.08</td>\n",
       "      <td>58.10</td>\n",
       "      <td>2.27</td>\n",
       "      <td>4.79</td>\n",
       "      <td>10.90</td>\n",
       "      <td>261.13</td>\n",
       "    </tr>\n",
       "    <tr>\n",
       "      <th>36</th>\n",
       "      <td>Mexico</td>\n",
       "      <td>11.89</td>\n",
       "      <td>23.62</td>\n",
       "      <td>53.76</td>\n",
       "      <td>2.04</td>\n",
       "      <td>4.25</td>\n",
       "      <td>9.59</td>\n",
       "      <td>158.53</td>\n",
       "    </tr>\n",
       "    <tr>\n",
       "      <th>37</th>\n",
       "      <td>Netherlands</td>\n",
       "      <td>11.25</td>\n",
       "      <td>22.81</td>\n",
       "      <td>52.38</td>\n",
       "      <td>1.99</td>\n",
       "      <td>5.06</td>\n",
       "      <td>9.01</td>\n",
       "      <td>152.48</td>\n",
       "    </tr>\n",
       "    <tr>\n",
       "      <th>38</th>\n",
       "      <td>New Zealand</td>\n",
       "      <td>11.55</td>\n",
       "      <td>23.13</td>\n",
       "      <td>51.60</td>\n",
       "      <td>2.02</td>\n",
       "      <td>5.18</td>\n",
       "      <td>8.76</td>\n",
       "      <td>145.48</td>\n",
       "    </tr>\n",
       "    <tr>\n",
       "      <th>39</th>\n",
       "      <td>Norway</td>\n",
       "      <td>11.58</td>\n",
       "      <td>23.31</td>\n",
       "      <td>53.12</td>\n",
       "      <td>2.03</td>\n",
       "      <td>4.01</td>\n",
       "      <td>8.53</td>\n",
       "      <td>145.48</td>\n",
       "    </tr>\n",
       "    <tr>\n",
       "      <th>40</th>\n",
       "      <td>Papua New Guinea</td>\n",
       "      <td>12.25</td>\n",
       "      <td>25.03</td>\n",
       "      <td>56.96</td>\n",
       "      <td>2.24</td>\n",
       "      <td>4.84</td>\n",
       "      <td>10.69</td>\n",
       "      <td>233.00</td>\n",
       "    </tr>\n",
       "    <tr>\n",
       "      <th>41</th>\n",
       "      <td>Philippines</td>\n",
       "      <td>11.76</td>\n",
       "      <td>23.54</td>\n",
       "      <td>54.60</td>\n",
       "      <td>2.19</td>\n",
       "      <td>4.60</td>\n",
       "      <td>10.16</td>\n",
       "      <td>200.37</td>\n",
       "    </tr>\n",
       "    <tr>\n",
       "      <th>42</th>\n",
       "      <td>Polands</td>\n",
       "      <td>11.13</td>\n",
       "      <td>22.21</td>\n",
       "      <td>49.29</td>\n",
       "      <td>1.95</td>\n",
       "      <td>3.99</td>\n",
       "      <td>8.97</td>\n",
       "      <td>160.82</td>\n",
       "    </tr>\n",
       "    <tr>\n",
       "      <th>43</th>\n",
       "      <td>Portugal</td>\n",
       "      <td>11.81</td>\n",
       "      <td>24.22</td>\n",
       "      <td>54.30</td>\n",
       "      <td>2.09</td>\n",
       "      <td>4.16</td>\n",
       "      <td>8.84</td>\n",
       "      <td>151.20</td>\n",
       "    </tr>\n",
       "    <tr>\n",
       "      <th>44</th>\n",
       "      <td>Rumania</td>\n",
       "      <td>11.44</td>\n",
       "      <td>23.46</td>\n",
       "      <td>51.20</td>\n",
       "      <td>1.92</td>\n",
       "      <td>3.96</td>\n",
       "      <td>8.53</td>\n",
       "      <td>165.45</td>\n",
       "    </tr>\n",
       "    <tr>\n",
       "      <th>45</th>\n",
       "      <td>Singapore</td>\n",
       "      <td>12.30</td>\n",
       "      <td>25.00</td>\n",
       "      <td>55.08</td>\n",
       "      <td>2.12</td>\n",
       "      <td>4.52</td>\n",
       "      <td>9.94</td>\n",
       "      <td>182.77</td>\n",
       "    </tr>\n",
       "    <tr>\n",
       "      <th>46</th>\n",
       "      <td>Spain</td>\n",
       "      <td>11.80</td>\n",
       "      <td>23.98</td>\n",
       "      <td>53.59</td>\n",
       "      <td>2.05</td>\n",
       "      <td>4.14</td>\n",
       "      <td>9.02</td>\n",
       "      <td>162.60</td>\n",
       "    </tr>\n",
       "    <tr>\n",
       "      <th>47</th>\n",
       "      <td>Sweden</td>\n",
       "      <td>11.16</td>\n",
       "      <td>22.82</td>\n",
       "      <td>51.79</td>\n",
       "      <td>2.02</td>\n",
       "      <td>4.12</td>\n",
       "      <td>8.84</td>\n",
       "      <td>154.48</td>\n",
       "    </tr>\n",
       "    <tr>\n",
       "      <th>48</th>\n",
       "      <td>Switzerland</td>\n",
       "      <td>11.45</td>\n",
       "      <td>23.31</td>\n",
       "      <td>53.11</td>\n",
       "      <td>2.02</td>\n",
       "      <td>4.07</td>\n",
       "      <td>8.77</td>\n",
       "      <td>153.42</td>\n",
       "    </tr>\n",
       "    <tr>\n",
       "      <th>49</th>\n",
       "      <td>Taipei</td>\n",
       "      <td>11.22</td>\n",
       "      <td>22.62</td>\n",
       "      <td>52.50</td>\n",
       "      <td>2.10</td>\n",
       "      <td>4.38</td>\n",
       "      <td>9.63</td>\n",
       "      <td>177.87</td>\n",
       "    </tr>\n",
       "    <tr>\n",
       "      <th>50</th>\n",
       "      <td>Tailand</td>\n",
       "      <td>11.75</td>\n",
       "      <td>24.46</td>\n",
       "      <td>55.80</td>\n",
       "      <td>2.20</td>\n",
       "      <td>4.72</td>\n",
       "      <td>10.28</td>\n",
       "      <td>168.45</td>\n",
       "    </tr>\n",
       "    <tr>\n",
       "      <th>51</th>\n",
       "      <td>Turkey</td>\n",
       "      <td>11.98</td>\n",
       "      <td>24.44</td>\n",
       "      <td>56.45</td>\n",
       "      <td>2.15</td>\n",
       "      <td>4.37</td>\n",
       "      <td>9.38</td>\n",
       "      <td>201.08</td>\n",
       "    </tr>\n",
       "    <tr>\n",
       "      <th>52</th>\n",
       "      <td>USA</td>\n",
       "      <td>10.79</td>\n",
       "      <td>21.83</td>\n",
       "      <td>50.62</td>\n",
       "      <td>1.96</td>\n",
       "      <td>3.95</td>\n",
       "      <td>8.50</td>\n",
       "      <td>142.72</td>\n",
       "    </tr>\n",
       "    <tr>\n",
       "      <th>53</th>\n",
       "      <td>USSR</td>\n",
       "      <td>11.06</td>\n",
       "      <td>22.19</td>\n",
       "      <td>49.19</td>\n",
       "      <td>1.89</td>\n",
       "      <td>3.87</td>\n",
       "      <td>8.45</td>\n",
       "      <td>151.22</td>\n",
       "    </tr>\n",
       "    <tr>\n",
       "      <th>54</th>\n",
       "      <td>Western Samoa</td>\n",
       "      <td>12.74</td>\n",
       "      <td>25.85</td>\n",
       "      <td>58.73</td>\n",
       "      <td>2.33</td>\n",
       "      <td>5.81</td>\n",
       "      <td>13.04</td>\n",
       "      <td>306.00</td>\n",
       "    </tr>\n",
       "  </tbody>\n",
       "</table>\n",
       "</div>"
      ],
      "text/plain": [
       "                                  COUNTRY     X1     X2     X3    X4    X5  \\\n",
       "0                               Argentina  11.61  22.94  54.50  2.15  4.43   \n",
       "1                               Australia  11.20  22.35  51.80  1.98  4.13   \n",
       "2                                 Austria  11.43  23.09  50.62  1.99  4.22   \n",
       "3                                 Belgium  11.41  23.04  52.00  2.00  4.14   \n",
       "4                                 Bermuda  11.46  23.05  53.30  2.16  4.58   \n",
       "5                                  Brazil  11.31  23.17  52.80  2.10  4.49   \n",
       "6                                   Burma  12.14  24.47  55.00  2.18  4.45   \n",
       "7                                  Canada  11.00  22.25  50.60  2.00  4.06   \n",
       "8                                  Chille  12.00  21.52  54.90  2.05  4.23   \n",
       "9                                   China  11.95  24.41  54.97  2.08  4.33   \n",
       "10                               Colombia  11.60  24.00  53.26  2.11  4.35   \n",
       "11                           Cook Islands  12.90  27.10  60.40  2.30  4.84   \n",
       "12                              Costerica  11.96  24.60  58.25  2.21  4.68   \n",
       "13                         Czechoslovakia  11.09  21.97  47.99  1.89  4.14   \n",
       "14                                Denmark  11.42  23.52  63.60  2.03  4.18   \n",
       "15                     Dominican Republic  11.79  24.05  56.05  2.24  4.74   \n",
       "16                                Finland  11.13  22.39  50.14  2.03  4.10   \n",
       "17                                 France  11.15  22.19  51.73  2.00  4.14   \n",
       "18             German Democratic Republic  10.89  21.71  48.16  1.93  3.96   \n",
       "19            Federal Republic of Germany  11.01  22.39  49.75  1.95  4.03   \n",
       "20       Great Britain and Nothern Island  11.00  22.13  50.46  1.98  4.03   \n",
       "21                                 Greece  11.79  24.08  54.93  2.07  4.35   \n",
       "22                              Guatemala  11.84  24.54  56.09  2.28  4.86   \n",
       "23                                Hungary  11.45  23.06  51.50  2.01  4.14   \n",
       "24                                  India  11.95  24.28  53.60  2.10  4.32   \n",
       "25                              Indonesia  11.85  24.24  55.34  2.22  4.61   \n",
       "26                                Ireland  11.43  23.51  53.24  2.05  4.11   \n",
       "27                                 Israel  11.45  23.57  54.90  2.10  4.25   \n",
       "28                                  Italy  11.29  23.00  52.01  1.96  3.98   \n",
       "29                                  Japan  11.73  24.00  53.73  2.09  5.35   \n",
       "30                                  Kenya  11.73  23.88  52.70  2.00  5.15   \n",
       "31                                  Korea  11.96  24.49  55.70  2.15  4.42   \n",
       "32  Democratic People's Republic of Korea  12.25  25.78  51.20  1.97  4.25   \n",
       "33                             Luxembourg  12.03  24.96  56.10  2.07  4.38   \n",
       "34                               Malaysia  12.23  24.21  55.09  2.19  4.69   \n",
       "35                              Mauritius  11.76  25.08  58.10  2.27  4.79   \n",
       "36                                 Mexico  11.89  23.62  53.76  2.04  4.25   \n",
       "37                            Netherlands  11.25  22.81  52.38  1.99  5.06   \n",
       "38                            New Zealand  11.55  23.13  51.60  2.02  5.18   \n",
       "39                                 Norway  11.58  23.31  53.12  2.03  4.01   \n",
       "40                       Papua New Guinea  12.25  25.03  56.96  2.24  4.84   \n",
       "41                            Philippines  11.76  23.54  54.60  2.19  4.60   \n",
       "42                                Polands  11.13  22.21  49.29  1.95  3.99   \n",
       "43                               Portugal  11.81  24.22  54.30  2.09  4.16   \n",
       "44                                Rumania  11.44  23.46  51.20  1.92  3.96   \n",
       "45                              Singapore  12.30  25.00  55.08  2.12  4.52   \n",
       "46                                  Spain  11.80  23.98  53.59  2.05  4.14   \n",
       "47                                 Sweden  11.16  22.82  51.79  2.02  4.12   \n",
       "48                            Switzerland  11.45  23.31  53.11  2.02  4.07   \n",
       "49                                 Taipei  11.22  22.62  52.50  2.10  4.38   \n",
       "50                                Tailand  11.75  24.46  55.80  2.20  4.72   \n",
       "51                                 Turkey  11.98  24.44  56.45  2.15  4.37   \n",
       "52                                    USA  10.79  21.83  50.62  1.96  3.95   \n",
       "53                                   USSR  11.06  22.19  49.19  1.89  3.87   \n",
       "54                          Western Samoa  12.74  25.85  58.73  2.33  5.81   \n",
       "\n",
       "       X6      X7  \n",
       "0    9.79  178.52  \n",
       "1    9.08  152.37  \n",
       "2    9.34  159.37  \n",
       "3    8.88  157.85  \n",
       "4    9.81  169.98  \n",
       "5    9.77  168.75  \n",
       "6    9.51  191.02  \n",
       "7    8.81  149.45  \n",
       "8    9.37  171.38  \n",
       "9    9.31  168.48  \n",
       "10   9.46  165.42  \n",
       "11  11.10  233.22  \n",
       "12  10.43  171.80  \n",
       "13   3.92  158.85  \n",
       "14   8.71  151.75  \n",
       "15   9.89  203.88  \n",
       "16   8.92  154.23  \n",
       "17   8.98  154.27  \n",
       "18   8.75  157.68  \n",
       "19   8.59  148.53  \n",
       "20   8.62  149.72  \n",
       "21   9.87  182.20  \n",
       "22  10.54  215.80  \n",
       "23   8.98  156.37  \n",
       "24   9.98  188.30  \n",
       "25  10.02  201.28  \n",
       "26   8.89  149.38  \n",
       "27   9.37  160.48  \n",
       "28   8.63  151.82  \n",
       "29   9.20  150.50  \n",
       "30   9.20  181.05  \n",
       "31   9.62  164.65  \n",
       "32   9.35  179.17  \n",
       "33   9.64  174.68  \n",
       "34  10.46  182.17  \n",
       "35  10.90  261.13  \n",
       "36   9.59  158.53  \n",
       "37   9.01  152.48  \n",
       "38   8.76  145.48  \n",
       "39   8.53  145.48  \n",
       "40  10.69  233.00  \n",
       "41  10.16  200.37  \n",
       "42   8.97  160.82  \n",
       "43   8.84  151.20  \n",
       "44   8.53  165.45  \n",
       "45   9.94  182.77  \n",
       "46   9.02  162.60  \n",
       "47   8.84  154.48  \n",
       "48   8.77  153.42  \n",
       "49   9.63  177.87  \n",
       "50  10.28  168.45  \n",
       "51   9.38  201.08  \n",
       "52   8.50  142.72  \n",
       "53   8.45  151.22  \n",
       "54  13.04  306.00  "
      ]
     },
     "execution_count": 50,
     "metadata": {},
     "output_type": "execute_result"
    }
   ],
   "source": [
    "#importing dataset\n",
    "import pandas as pd\n",
    "df = pd.read_csv(\"women_track_records.csv\")\n",
    "\n",
    "df"
   ]
  },
  {
   "cell_type": "code",
   "execution_count": 52,
   "metadata": {},
   "outputs": [
    {
     "data": {
      "text/plain": [
       "FactorAnalyzer(bounds=(0.005, 1), impute='median', is_corr_matrix=False,\n",
       "               method='principal', n_factors=2, rotation='varimax',\n",
       "               rotation_kwargs={}, use_smc=True)"
      ]
     },
     "execution_count": 52,
     "metadata": {},
     "output_type": "execute_result"
    }
   ],
   "source": [
    "from sklearn.preprocessing import StandardScaler\n",
    "from factor_analyzer import FactorAnalyzer\n",
    "\n",
    "X = df.iloc[:, 1:8]\n",
    "\n",
    "sc = StandardScaler()\n",
    "X_scaled = sc.fit_transform(X)\n",
    "\n",
    "#performing factor analysis\n",
    "fa = FactorAnalyzer(n_factors=2, rotation=\"varimax\", method=\"principal\", \n",
    "                    is_corr_matrix=False)\n",
    "fa.fit(X_scaled)"
   ]
  },
  {
   "cell_type": "code",
   "execution_count": 54,
   "metadata": {},
   "outputs": [
    {
     "name": "stdout",
     "output_type": "stream",
     "text": [
      "Eigenvalues:\n",
      "[5.06759677 0.6020256  0.44429295 0.36590389 0.26931274 0.13929091\n",
      " 0.11157713]\n",
      "\n",
      "Communalities:\n",
      "[0.8632044  0.86854473 0.77623794 0.84827979 0.79619776 0.73826138\n",
      " 0.77889637]\n",
      "\n",
      "Specific Variances:\n",
      "[0.1367956  0.13145527 0.22376206 0.15172021 0.20380224 0.26173862\n",
      " 0.22110363]\n",
      "\n",
      "Factor Loadings:\n",
      "[[0.8399412  0.3971186 ]\n",
      " [0.86109019 0.35646657]\n",
      " [0.81415209 0.33674071]\n",
      " [0.61543129 0.6852183 ]\n",
      " [0.22614824 0.86316553]\n",
      " [0.48965453 0.7060452 ]\n",
      " [0.46668107 0.74906952]]\n"
     ]
    }
   ],
   "source": [
    "#printing data\n",
    "print(\"Eigenvalues:\")\n",
    "print(fa.get_eigenvalues()[0])\n",
    "print()\n",
    "print(\"Communalities:\")\n",
    "print(fa.get_communalities())\n",
    "print()\n",
    "print(\"Specific Variances:\")\n",
    "print(fa.get_uniquenesses())\n",
    "print()\n",
    "print(\"Factor Loadings:\")\n",
    "print(fa.loadings_)"
   ]
  },
  {
   "cell_type": "code",
   "execution_count": 55,
   "metadata": {},
   "outputs": [
    {
     "data": {
      "text/plain": [
       "Text(0.5, 1.0, 'Scree Plot')"
      ]
     },
     "execution_count": 55,
     "metadata": {},
     "output_type": "execute_result"
    },
    {
     "data": {
      "image/png": "[encoded data removed]",
      "text/plain": [
       "<Figure size 576x396 with 1 Axes>"
      ]
     },
     "metadata": {},
     "output_type": "display_data"
    }
   ],
   "source": [
    "#plotting graph of eigen values\n",
    "import matplotlib.pyplot as plt\n",
    "plt.style.use(\"ggplot\")\n",
    "\n",
    "plt.plot(fa.get_eigenvalues()[0], marker='o')\n",
    "plt.xlabel(\"Eigenvalue number\")\n",
    "plt.ylabel(\"Eigenvalue size\")\n",
    "plt.title(\"Scree Plot\")"
   ]
  },
  {
   "cell_type": "code",
   "execution_count": 56,
   "metadata": {},
   "outputs": [],
   "source": [
    "#saving transformed data\n",
    "transformed_df = pd.DataFrame(fa.transform(X_scaled), columns=['RF1', 'RF2'])\n",
    "transformed_df.to_csv(\"track_records_81_var.csv\", index=False)\n",
    "transformed_df.to_excel(\"track_records_81_var.xlsx\", index=False)"
   ]
  },
  {
   "cell_type": "markdown",
   "metadata": {},
   "source": [
    "**Observation**\n",
    "\n",
    "\"track_records_81_var\" file has the reduced dimensions for further analysis\""
   ]
  },
  {
   "cell_type": "code",
   "execution_count": null,
   "metadata": {},
   "outputs": [],
   "source": []
  }
 ],
 "metadata": {
  "kernelspec": {
   "display_name": "Python 3",
   "language": "python",
   "name": "python3"
  },
  "language_info": {
   "codemirror_mode": {
    "name": "ipython",
    "version": 3
   },
   "file_extension": ".py",
   "mimetype": "text/x-python",
   "name": "python",
   "nbconvert_exporter": "python",
   "pygments_lexer": "ipython3",
   "version": "3.7.6"
  }
 },
 "nbformat": 4,
 "nbformat_minor": 4
}
