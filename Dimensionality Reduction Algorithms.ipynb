{
 "cells": [
  {
   "cell_type": "markdown",
   "metadata": {},
   "source": [
    "<h1>Dimensionality Reduction Algorithms</h1>"
   ]
  },
  {
   "cell_type": "markdown",
   "metadata": {},
   "source": [
    "<h3>Research and Hands On for Seminar - Presented by Rishav 201840501</h3>"
   ]
  },
  {
   "cell_type": "markdown",
   "metadata": {},
   "source": [
    "<h2>Backward Elimination Algorithm</h2>"
   ]
  },
  {
   "cell_type": "code",
   "execution_count": 9,
   "metadata": {},
   "outputs": [],
   "source": [
    "import pandas as pd\n",
    "from sklearn.datasets import load_iris\n",
    "from sklearn.feature_selection import RFE\n",
    "from sklearn.linear_model import LogisticRegression\n",
    "from yellowbrick.model_selection import feature_importances"
   ]
  },
  {
   "cell_type": "code",
   "execution_count": 11,
   "metadata": {},
   "outputs": [],
   "source": [
    "# Loading IRIS Dataset\n",
    "iris = load_iris()\n",
    "X = iris.data\n",
    "y = iris.target"
   ]
  },
  {
   "cell_type": "code",
   "execution_count": 12,
   "metadata": {},
   "outputs": [],
   "source": [
    "# geberating estimator using logistic regression for RFE\n",
    "estimator = LogisticRegression(max_iter=150)\n",
    "\n",
    "#performing RFE\n",
    "selector = RFE(estimator, n_features_to_select=3, step=1)\n",
    "selector.fit(X, y)\n",
    "X_selected = selector.transform(X)"
   ]
  },
  {
   "cell_type": "code",
   "execution_count": 13,
   "metadata": {},
   "outputs": [
    {
     "name": "stdout",
     "output_type": "stream",
     "text": [
      "Data with initial features\n",
      "   sepal length (cm)  sepal width (cm)  petal length (cm)  petal width (cm)\n",
      "0                5.1               3.5                1.4               0.2\n",
      "1                4.9               3.0                1.4               0.2\n",
      "2                4.7               3.2                1.3               0.2\n",
      "3                4.6               3.1                1.5               0.2\n",
      "4                5.0               3.6                1.4               0.2\n",
      "\n",
      "Data with selected features\n",
      "     0    1    2\n",
      "0  3.5  1.4  0.2\n",
      "1  3.0  1.4  0.2\n",
      "2  3.2  1.3  0.2\n",
      "3  3.1  1.5  0.2\n",
      "4  3.6  1.4  0.2\n",
      "\n"
     ]
    },
    {
     "data": {
      "image/png": "[encoded data removed]",
      "text/plain": [
       "<Figure size 576x396 with 1 Axes>"
      ]
     },
     "metadata": {},
     "output_type": "display_data"
    },
    {
     "name": "stdout",
     "output_type": "stream",
     "text": [
      "FeatureImportances(absolute=False,\n",
      "                   ax=<matplotlib.axes._subplots.AxesSubplot object at 0x7fd39516acd0>,\n",
      "                   colormap=None, colors=None,\n",
      "                   estimator=LogisticRegression(C=1.0, class_weight=None,\n",
      "                                                dual=False, fit_intercept=True,\n",
      "                                                intercept_scaling=1,\n",
      "                                                l1_ratio=None, max_iter=150,\n",
      "                                                multi_class='auto', n_jobs=None,\n",
      "                                                penalty='l2', random_state=None,\n",
      "                                                solver='lbfgs', tol=0.0001,\n",
      "                                                verbose=0, warm_start=False),\n",
      "                   is_fitted='auto',\n",
      "                   labels=['sepal length (cm)', 'sepal width (cm)',\n",
      "                           'petal length (cm)', 'petal width (cm)'],\n",
      "                   relative=False, stack=True, topn=None, xlabel=None)\n"
     ]
    }
   ],
   "source": [
    "print('Data with initial features')\n",
    "print(pd.DataFrame(X, columns=iris.feature_names).head())\n",
    "print()\n",
    "print('Data with selected features')\n",
    "print(pd.DataFrame(X_selected).head())\n",
    "print()\n",
    "print(feature_importances(estimator, X, y, stack=True,labels=iris.feature_names, relative=False))"
   ]
  },
  {
   "cell_type": "markdown",
   "metadata": {},
   "source": [
    "**Observation**\n",
    "\n",
    "From the output, we can see that the recursive feature elimination (RFE) algorithm has eliminated the sepal length from the logistic regression model. sepal length is the least important feature. The remaining features contain the original values as in the initial dataset. \n",
    "\n",
    "As the plot shows, it is better to keep the other 3 features in the model."
   ]
  },
  {
   "cell_type": "markdown",
   "metadata": {},
   "source": [
    "<h2>Forward Selection Algorithm</h2>"
   ]
  },
  {
   "cell_type": "code",
   "execution_count": 14,
   "metadata": {},
   "outputs": [],
   "source": [
    "from sklearn.feature_selection import f_classif\n",
    "from sklearn.feature_selection import SelectKBest"
   ]
  },
  {
   "cell_type": "code",
   "execution_count": 15,
   "metadata": {},
   "outputs": [],
   "source": [
    "# Loading IRIS Dataset\n",
    "iris = load_iris()\n",
    "X = iris.data\n",
    "y = iris.target"
   ]
  },
  {
   "cell_type": "code",
   "execution_count": 16,
   "metadata": {},
   "outputs": [
    {
     "name": "stdout",
     "output_type": "stream",
     "text": [
      "F-values:  [ 119.26450218   49.16004009 1180.16118225  960.0071468 ]\n",
      "\n",
      "Data with initial features\n",
      "   sepal length (cm)  sepal width (cm)  petal length (cm)  petal width (cm)\n",
      "0                5.1               3.5                1.4               0.2\n",
      "1                4.9               3.0                1.4               0.2\n",
      "2                4.7               3.2                1.3               0.2\n",
      "3                4.6               3.1                1.5               0.2\n",
      "4                5.0               3.6                1.4               0.2\n",
      "\n",
      "Data with selected features\n",
      "     0    1    2\n",
      "0  5.1  1.4  0.2\n",
      "1  4.9  1.4  0.2\n",
      "2  4.7  1.3  0.2\n",
      "3  4.6  1.5  0.2\n",
      "4  5.0  1.4  0.2\n"
     ]
    }
   ],
   "source": [
    "#Selecting feature based on f_classif score\n",
    "X_selected = SelectKBest(f_classif, k=3).fit_transform(X, y)\n",
    "\n",
    "# Let's see F-vlues for each feature\n",
    "print('F-values: ', f_classif(X,y)[0])\n",
    "print()\n",
    "print('Data with initial features')\n",
    "print(pd.DataFrame(X, columns=iris.feature_names).head())\n",
    "print()\n",
    "print('Data with selected features')\n",
    "print(pd.DataFrame(X_selected).head())"
   ]
  },
  {
   "cell_type": "markdown",
   "metadata": {},
   "source": [
    "**Observation**\n",
    "\n",
    "From the output, we can see that the forward feature selection process has selected the sepal length, petal length and petal width which have higher F-values."
   ]
  },
  {
   "cell_type": "code",
   "execution_count": null,
   "metadata": {},
   "outputs": [],
   "source": []
  }
 ],
 "metadata": {
  "kernelspec": {
   "display_name": "Python 3",
   "language": "python",
   "name": "python3"
  },
  "language_info": {
   "codemirror_mode": {
    "name": "ipython",
    "version": 3
   },
   "file_extension": ".py",
   "mimetype": "text/x-python",
   "name": "python",
   "nbconvert_exporter": "python",
   "pygments_lexer": "ipython3",
   "version": "3.7.6"
  }
 },
 "nbformat": 4,
 "nbformat_minor": 4
}
